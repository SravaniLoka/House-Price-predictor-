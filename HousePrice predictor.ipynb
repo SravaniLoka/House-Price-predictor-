{
 "cells": [
  {
   "cell_type": "code",
   "execution_count": null,
   "id": "660b0c3e-6bec-45fa-9dea-405fcf11f012",
   "metadata": {},
   "outputs": [],
   "source": [
    "import pandas as pd\n",
    "import matplotlib.pyplot as plt\n",
    "import seaborn as sns\n",
    "from sklearn.model_selection import train_test_split\n",
    "from sklearn.linear_model import LinearRegression\n",
    "from sklearn.metrics import mean_squared_error, r2_score\n",
    "\n",
    "# Load the dataset from CSV\n",
    "df = pd.read_csv('house_data.csv')\n",
    "\n",
    "# Exploratory Data Analysis (EDA)\n",
    "# Let's take a quick look at the first few rows of the dataset\n",
    "print(df.head())\n",
    "\n",
    "# Summary statistics of the dataset\n",
    "print(df.describe())\n",
    "\n",
    "# Check for missing values\n",
    "print(df.isnull().sum())\n",
    "\n",
    "# Correlation matrix to understand feature relationships\n",
    "correlation_matrix = df.corr()\n",
    "sns.heatmap(correlation_matrix, annot=True, cmap='coolwarm')\n",
    "plt.title(\"Correlation Matrix\")\n",
    "plt.show()\n",
    "\n",
    "# Preprocessing: Selecting features and target variable\n",
    "X = df[['bedrooms', 'bathrooms', 'sqft_living', 'sqft_lot', 'floors', 'waterfront', 'view', 'condition']]\n",
    "y = df['price']\n",
    "\n",
    "# Splitting the dataset into training and testing sets\n",
    "X_train, X_test, y_train, y_test = train_test_split(X, y, test_size=0.2, random_state=42)"
   ]
  },
  {
   "cell_type": "code",
   "execution_count": null,
   "id": "c2fd5ff3-b427-42d0-a281-675d2d754625",
   "metadata": {},
   "outputs": [],
   "source": [
    "model = LinearRegression()\n",
    "\n",
    "# Fitting the model on the training data\n",
    "model.fit(X_train, y_train)"
   ]
  },
  {
   "cell_type": "code",
   "execution_count": null,
   "id": "61a33dde-246a-44ef-8ff8-5ede3a7f16e1",
   "metadata": {},
   "outputs": [],
   "source": [
    "# Model Evaluation\n",
    "y_pred = model.predict(X_test)\n",
    "\n",
    "# Mean Squared Error and R-squared for model evaluation\n",
    "mse = mean_squared_error(y_test, y_pred)\n",
    "r2 = r2_score(y_test, y_pred)\n",
    "\n",
    "print(\"Mean Squared Error:\", mse)\n",
    "print(\"R-squared:\", r2)"
   ]
  },
  {
   "cell_type": "code",
   "execution_count": null,
   "id": "b7c27be5-5fe7-48ce-b773-20be3850042a",
   "metadata": {},
   "outputs": [],
   "source": [
    "# Predictions and Visualization\n",
    "# To visualize the predictions against actual prices, we'll use a scatter plot\n",
    "plt.scatter(y_test, y_pred)\n",
    "plt.xlabel(\"Actual Prices\")\n",
    "plt.ylabel(\"Predicted Prices\")\n",
    "plt.title(\"Actual Prices vs. Predicted Prices\")\n",
    "plt.show()\n",
    "\n",
    "# We can also create a residual plot to check the model's performance\n",
    "residuals = y_test - y_pred\n",
    "plt.scatter(y_test, residuals)\n",
    "plt.axhline(y=0, color='red', linestyle='--')\n",
    "plt.xlabel(\"Actual Prices\")\n",
    "plt.ylabel(\"Residuals\")\n",
    "plt.title(\"Residual Plot\")\n",
    "plt.show()\n",
    "\n",
    "# Lastly, let's use the trained model to make predictions on new data and visualize the results\n",
    "new_data = [[3, 2, 1500, 4000, 1, 0, 0, 3]]\n",
    "predicted_price = model.predict(new_data)\n",
    "\n",
    "print(\"Predicted Price:\", predicted_price[0])"
   ]
  }
 ],
 "metadata": {
  "kernelspec": {
   "display_name": "Python 3 (ipykernel)",
   "language": "python",
   "name": "python3"
  },
  "language_info": {
   "codemirror_mode": {
    "name": "ipython",
    "version": 3
   },
   "file_extension": ".py",
   "mimetype": "text/x-python",
   "name": "python",
   "nbconvert_exporter": "python",
   "pygments_lexer": "ipython3",
   "version": "3.12.0"
  }
 },
 "nbformat": 4,
 "nbformat_minor": 5
}
