{
  "nbformat": 4,
  "nbformat_minor": 0,
  "metadata": {
    "colab": {
      "provenance": [],
      "authorship_tag": "ABX9TyNCgtgdVwqWqBluQ89Horqs",
      "include_colab_link": true
    },
    "kernelspec": {
      "name": "python3",
      "display_name": "Python 3"
    },
    "language_info": {
      "name": "python"
    }
  },
  "cells": [
    {
      "cell_type": "markdown",
      "metadata": {
        "id": "view-in-github",
        "colab_type": "text"
      },
      "source": [
        "<a href=\"https://colab.research.google.com/github/SravaniLoka/House-Price-predictor-/blob/main/Face_Recognition.ipynb\" target=\"_parent\"><img src=\"https://colab.research.google.com/assets/colab-badge.svg\" alt=\"Open In Colab\"/></a>"
      ]
    },
    {
      "cell_type": "markdown",
      "source": [
        "Image recognition using Python,OpenCV,OpenAI CLIP model and POstgreSQL pgvector\n"
      ],
      "metadata": {
        "id": "vtcqVI4kBTq7"
      }
    },
    {
      "cell_type": "markdown",
      "source": [
        "# STEP 0: INSTALL REQUIREMENTS"
      ],
      "metadata": {
        "id": "lqIXCIYdBpCX"
      }
    },
    {
      "cell_type": "code",
      "source": [
        "!pip install opencv-python imgbeddings psycopg2-binary"
      ],
      "metadata": {
        "colab": {
          "base_uri": "https://localhost:8080/"
        },
        "id": "coA5vdtqBsSz",
        "outputId": "1e6eaf33-4ae1-4f76-b147-b932fde354a9"
      },
      "execution_count": 1,
      "outputs": [
        {
          "output_type": "stream",
          "name": "stdout",
          "text": [
            "Requirement already satisfied: opencv-python in /usr/local/lib/python3.10/dist-packages (4.10.0.84)\n",
            "Collecting imgbeddings\n",
            "  Downloading imgbeddings-0.1.0.tar.gz (8.7 kB)\n",
            "  Preparing metadata (setup.py) ... \u001b[?25l\u001b[?25hdone\n",
            "Collecting psycopg2-binary\n",
            "  Downloading psycopg2_binary-2.9.9-cp310-cp310-manylinux_2_17_x86_64.manylinux2014_x86_64.whl.metadata (4.4 kB)\n",
            "Requirement already satisfied: numpy>=1.21.2 in /usr/local/lib/python3.10/dist-packages (from opencv-python) (1.25.2)\n",
            "Requirement already satisfied: transformers>=4.17.0 in /usr/local/lib/python3.10/dist-packages (from imgbeddings) (4.42.4)\n",
            "Collecting onnxruntime>=1.10.0 (from imgbeddings)\n",
            "  Downloading onnxruntime-1.18.1-cp310-cp310-manylinux_2_27_x86_64.manylinux_2_28_x86_64.whl.metadata (4.3 kB)\n",
            "Requirement already satisfied: Pillow in /usr/local/lib/python3.10/dist-packages (from imgbeddings) (9.4.0)\n",
            "Requirement already satisfied: tqdm in /usr/local/lib/python3.10/dist-packages (from imgbeddings) (4.66.4)\n",
            "Requirement already satisfied: scikit-learn in /usr/local/lib/python3.10/dist-packages (from imgbeddings) (1.3.2)\n",
            "Collecting coloredlogs (from onnxruntime>=1.10.0->imgbeddings)\n",
            "  Downloading coloredlogs-15.0.1-py2.py3-none-any.whl.metadata (12 kB)\n",
            "Requirement already satisfied: flatbuffers in /usr/local/lib/python3.10/dist-packages (from onnxruntime>=1.10.0->imgbeddings) (24.3.25)\n",
            "Requirement already satisfied: packaging in /usr/local/lib/python3.10/dist-packages (from onnxruntime>=1.10.0->imgbeddings) (24.1)\n",
            "Requirement already satisfied: protobuf in /usr/local/lib/python3.10/dist-packages (from onnxruntime>=1.10.0->imgbeddings) (3.20.3)\n",
            "Requirement already satisfied: sympy in /usr/local/lib/python3.10/dist-packages (from onnxruntime>=1.10.0->imgbeddings) (1.13.1)\n",
            "Requirement already satisfied: filelock in /usr/local/lib/python3.10/dist-packages (from transformers>=4.17.0->imgbeddings) (3.15.4)\n",
            "Requirement already satisfied: huggingface-hub<1.0,>=0.23.2 in /usr/local/lib/python3.10/dist-packages (from transformers>=4.17.0->imgbeddings) (0.23.5)\n",
            "Requirement already satisfied: pyyaml>=5.1 in /usr/local/lib/python3.10/dist-packages (from transformers>=4.17.0->imgbeddings) (6.0.1)\n",
            "Requirement already satisfied: regex!=2019.12.17 in /usr/local/lib/python3.10/dist-packages (from transformers>=4.17.0->imgbeddings) (2024.5.15)\n",
            "Requirement already satisfied: requests in /usr/local/lib/python3.10/dist-packages (from transformers>=4.17.0->imgbeddings) (2.31.0)\n",
            "Requirement already satisfied: safetensors>=0.4.1 in /usr/local/lib/python3.10/dist-packages (from transformers>=4.17.0->imgbeddings) (0.4.3)\n",
            "Requirement already satisfied: tokenizers<0.20,>=0.19 in /usr/local/lib/python3.10/dist-packages (from transformers>=4.17.0->imgbeddings) (0.19.1)\n",
            "Requirement already satisfied: scipy>=1.5.0 in /usr/local/lib/python3.10/dist-packages (from scikit-learn->imgbeddings) (1.13.1)\n",
            "Requirement already satisfied: joblib>=1.1.1 in /usr/local/lib/python3.10/dist-packages (from scikit-learn->imgbeddings) (1.4.2)\n",
            "Requirement already satisfied: threadpoolctl>=2.0.0 in /usr/local/lib/python3.10/dist-packages (from scikit-learn->imgbeddings) (3.5.0)\n",
            "Requirement already satisfied: fsspec>=2023.5.0 in /usr/local/lib/python3.10/dist-packages (from huggingface-hub<1.0,>=0.23.2->transformers>=4.17.0->imgbeddings) (2024.6.1)\n",
            "Requirement already satisfied: typing-extensions>=3.7.4.3 in /usr/local/lib/python3.10/dist-packages (from huggingface-hub<1.0,>=0.23.2->transformers>=4.17.0->imgbeddings) (4.12.2)\n",
            "Collecting humanfriendly>=9.1 (from coloredlogs->onnxruntime>=1.10.0->imgbeddings)\n",
            "  Downloading humanfriendly-10.0-py2.py3-none-any.whl.metadata (9.2 kB)\n",
            "Requirement already satisfied: charset-normalizer<4,>=2 in /usr/local/lib/python3.10/dist-packages (from requests->transformers>=4.17.0->imgbeddings) (3.3.2)\n",
            "Requirement already satisfied: idna<4,>=2.5 in /usr/local/lib/python3.10/dist-packages (from requests->transformers>=4.17.0->imgbeddings) (3.7)\n",
            "Requirement already satisfied: urllib3<3,>=1.21.1 in /usr/local/lib/python3.10/dist-packages (from requests->transformers>=4.17.0->imgbeddings) (2.0.7)\n",
            "Requirement already satisfied: certifi>=2017.4.17 in /usr/local/lib/python3.10/dist-packages (from requests->transformers>=4.17.0->imgbeddings) (2024.7.4)\n",
            "Requirement already satisfied: mpmath<1.4,>=1.1.0 in /usr/local/lib/python3.10/dist-packages (from sympy->onnxruntime>=1.10.0->imgbeddings) (1.3.0)\n",
            "Downloading psycopg2_binary-2.9.9-cp310-cp310-manylinux_2_17_x86_64.manylinux2014_x86_64.whl (3.0 MB)\n",
            "\u001b[2K   \u001b[90m━━━━━━━━━━━━━━━━━━━━━━━━━━━━━━━━━━━━━━━━\u001b[0m \u001b[32m3.0/3.0 MB\u001b[0m \u001b[31m30.7 MB/s\u001b[0m eta \u001b[36m0:00:00\u001b[0m\n",
            "\u001b[?25hDownloading onnxruntime-1.18.1-cp310-cp310-manylinux_2_27_x86_64.manylinux_2_28_x86_64.whl (6.8 MB)\n",
            "\u001b[2K   \u001b[90m━━━━━━━━━━━━━━━━━━━━━━━━━━━━━━━━━━━━━━━━\u001b[0m \u001b[32m6.8/6.8 MB\u001b[0m \u001b[31m39.8 MB/s\u001b[0m eta \u001b[36m0:00:00\u001b[0m\n",
            "\u001b[?25hDownloading coloredlogs-15.0.1-py2.py3-none-any.whl (46 kB)\n",
            "\u001b[2K   \u001b[90m━━━━━━━━━━━━━━━━━━━━━━━━━━━━━━━━━━━━━━━━\u001b[0m \u001b[32m46.0/46.0 kB\u001b[0m \u001b[31m1.9 MB/s\u001b[0m eta \u001b[36m0:00:00\u001b[0m\n",
            "\u001b[?25hDownloading humanfriendly-10.0-py2.py3-none-any.whl (86 kB)\n",
            "\u001b[2K   \u001b[90m━━━━━━━━━━━━━━━━━━━━━━━━━━━━━━━━━━━━━━━━\u001b[0m \u001b[32m86.8/86.8 kB\u001b[0m \u001b[31m4.5 MB/s\u001b[0m eta \u001b[36m0:00:00\u001b[0m\n",
            "\u001b[?25hBuilding wheels for collected packages: imgbeddings\n",
            "  Building wheel for imgbeddings (setup.py) ... \u001b[?25l\u001b[?25hdone\n",
            "  Created wheel for imgbeddings: filename=imgbeddings-0.1.0-py3-none-any.whl size=9320 sha256=278fb2ba4dee6761f16ccc38564e8fad5ed24c50e9771bc573bb9f045f8738ee\n",
            "  Stored in directory: /root/.cache/pip/wheels/4e/c9/9c/5f94fd783ce863540e5999f4bc2afd1501ddaea942ee6413fc\n",
            "Successfully built imgbeddings\n",
            "Installing collected packages: psycopg2-binary, humanfriendly, coloredlogs, onnxruntime, imgbeddings\n",
            "Successfully installed coloredlogs-15.0.1 humanfriendly-10.0 imgbeddings-0.1.0 onnxruntime-1.18.1 psycopg2-binary-2.9.9\n"
          ]
        }
      ]
    },
    {
      "cell_type": "markdown",
      "source": [
        "# STEP 1: FACE RECOGNITION"
      ],
      "metadata": {
        "id": "yGDikXXCCE8D"
      }
    },
    {
      "cell_type": "code",
      "source": [
        "# importing the cv2 library\n",
        "import cv2\n",
        "\n",
        "# loading the haar case algorithm file into alg variable\n",
        "alg = \"/content/haarcascade_frontalface_default.xml\"\n",
        "# passing the algorithm to OpenCV\n",
        "haar_cascade = cv2.CascadeClassifier(alg)\n",
        "# loading the image path into file_name variable - replace <INSERT YOUR IMAGE NAME HERE> with the path to your image\n",
        "file_name = \"/content/modern-family-dvd-poster-cover-qlhbavon5k0kmbhn.jpg\"\n",
        "# reading the image\n",
        "img = cv2.imread(file_name, 0)\n",
        "# creating a black and white version of the image\n",
        "gray_img = cv2.cvtColor(img, cv2.COLOR_RGB2BGR)\n",
        "# detecting the faces\n",
        "faces = haar_cascade.detectMultiScale(\n",
        "    gray_img, scaleFactor=1.05, minNeighbors=2, minSize=(100, 100)\n",
        ")\n",
        "\n",
        "i = 0\n",
        "# for each face detected\n",
        "for x, y, w, h in faces:\n",
        "    # crop the image to select only the face\n",
        "    cropped_image = img[y : y + h, x : x + w]\n",
        "    # loading the target image path into target_file_name variable  - replace <INSERT YOUR TARGET IMAGE NAME HERE> with the path to your target image\n",
        "    target_file_name = '/content/stored faces' + str(i) + '.jpg'\n",
        "    cv2.imwrite(\n",
        "        target_file_name,\n",
        "        cropped_image,\n",
        "    )\n",
        "    i = i + 1;"
      ],
      "metadata": {
        "id": "mU7v4DicCHfW"
      },
      "execution_count": 2,
      "outputs": []
    },
    {
      "cell_type": "markdown",
      "source": [
        "# STEP 2: EMBEDDINGS CALCULATION\n"
      ],
      "metadata": {
        "id": "Xy3WwojRDORf"
      }
    },
    {
      "cell_type": "code",
      "source": [
        "# importing the required libraries\n",
        "import numpy as np\n",
        "from imgbeddings import imgbeddings\n",
        "from PIL import Image\n",
        "import psycopg2\n",
        "import os\n",
        "\n",
        "# connecting to the database - replace the SERVICE URI with the service URI\n",
        "conn = psycopg2.connect(\"<SERVICE_URI>\")\n",
        "\n",
        "for filename in os.listdir(\"/content/stored faces\"):\n",
        "    # opening the image\n",
        "    img = Image.open(\"/content/stored faces\" + filename)\n",
        "    # loading the `imgbeddings`\n",
        "    ibed = imgbeddings()\n",
        "    # calculating the embeddings\n",
        "    embedding = ibed.to_embeddings(img)\n",
        "    cur = conn.cursor()\n",
        "    cur.execute(\"INSERT INTO pictures values (%s,%s)\", (filename, embedding[0].tolist()))\n",
        "    print(filename)\n",
        "conn.commit()"
      ],
      "metadata": {
        "colab": {
          "base_uri": "https://localhost:8080/",
          "height": 383
        },
        "id": "U36S5rL5Drtd",
        "outputId": "384ff5f7-09b5-4378-d873-a6eca9d8bb6b"
      },
      "execution_count": 1,
      "outputs": [
        {
          "output_type": "error",
          "ename": "ModuleNotFoundError",
          "evalue": "No module named 'imgbeddings'",
          "traceback": [
            "\u001b[0;31m---------------------------------------------------------------------------\u001b[0m",
            "\u001b[0;31mModuleNotFoundError\u001b[0m                       Traceback (most recent call last)",
            "\u001b[0;32m<ipython-input-1-f2b1bb803715>\u001b[0m in \u001b[0;36m<cell line: 3>\u001b[0;34m()\u001b[0m\n\u001b[1;32m      1\u001b[0m \u001b[0;31m# importing the required libraries\u001b[0m\u001b[0;34m\u001b[0m\u001b[0;34m\u001b[0m\u001b[0m\n\u001b[1;32m      2\u001b[0m \u001b[0;32mimport\u001b[0m \u001b[0mnumpy\u001b[0m \u001b[0;32mas\u001b[0m \u001b[0mnp\u001b[0m\u001b[0;34m\u001b[0m\u001b[0;34m\u001b[0m\u001b[0m\n\u001b[0;32m----> 3\u001b[0;31m \u001b[0;32mfrom\u001b[0m \u001b[0mimgbeddings\u001b[0m \u001b[0;32mimport\u001b[0m \u001b[0mimgbeddings\u001b[0m\u001b[0;34m\u001b[0m\u001b[0;34m\u001b[0m\u001b[0m\n\u001b[0m\u001b[1;32m      4\u001b[0m \u001b[0;32mfrom\u001b[0m \u001b[0mPIL\u001b[0m \u001b[0;32mimport\u001b[0m \u001b[0mImage\u001b[0m\u001b[0;34m\u001b[0m\u001b[0;34m\u001b[0m\u001b[0m\n\u001b[1;32m      5\u001b[0m \u001b[0;32mimport\u001b[0m \u001b[0mpsycopg2\u001b[0m\u001b[0;34m\u001b[0m\u001b[0;34m\u001b[0m\u001b[0m\n",
            "\u001b[0;31mModuleNotFoundError\u001b[0m: No module named 'imgbeddings'",
            "",
            "\u001b[0;31m---------------------------------------------------------------------------\u001b[0;32m\nNOTE: If your import is failing due to a missing package, you can\nmanually install dependencies using either !pip or !apt.\n\nTo view examples of installing some common dependencies, click the\n\"Open Examples\" button below.\n\u001b[0;31m---------------------------------------------------------------------------\u001b[0m\n"
          ],
          "errorDetails": {
            "actions": [
              {
                "action": "open_url",
                "actionText": "Open Examples",
                "url": "/notebooks/snippets/importing_libraries.ipynb"
              }
            ]
          }
        }
      ]
    },
    {
      "cell_type": "markdown",
      "source": [
        "# STEP 3:CALCULATE EMBEDDINGS ON NEW PICTURE\n"
      ],
      "metadata": {
        "id": "oK3TZWijjluv"
      }
    },
    {
      "cell_type": "code",
      "source": [
        "# loading the face image path into file_name variable\n",
        "file_name = \"solo-image.png\"  # replace <INSERT YOUR FACE FILE NAME> with the path to your image\n",
        "# opening the image\n",
        "img = Image.open(file_name)\n",
        "# loading the `imgbeddings`\n",
        "ibed = imgbeddings()\n",
        "# calculating the embeddings\n",
        "embedding = ibed.to_embeddings(img)"
      ],
      "metadata": {
        "id": "jAAlY3Zej16P"
      },
      "execution_count": null,
      "outputs": []
    },
    {
      "cell_type": "markdown",
      "source": [
        "STEP 3:FIND SIMILAR IMAGES BY QUERYING THE POSTGRESQL DB USING PGVECTOR"
      ],
      "metadata": {
        "id": "eJIhtfI6j6Vj"
      }
    },
    {
      "cell_type": "code",
      "source": [
        "from IPython.display import Image, display\n",
        "\n",
        "cur = conn.cursor()\n",
        "string_representation = \"[\"+ \",\".join(str(x) for x in embedding[0].tolist()) +\"]\"\n",
        "cur.execute(\"SELECT * FROM pictures ORDER BY embedding <-> %s LIMIT 1;\", (string_representation,))\n",
        "rows = cur.fetchall()\n",
        "for row in rows:\n",
        "    display(Image(filename=\"stored-faces/\"+row[0]))\n",
        "cur.close()"
      ],
      "metadata": {
        "id": "PP5RxyNYkF_a"
      },
      "execution_count": null,
      "outputs": []
    }
  ]
}